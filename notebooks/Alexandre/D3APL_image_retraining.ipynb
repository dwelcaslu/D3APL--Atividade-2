{
 "cells": [
  {
   "cell_type": "markdown",
   "metadata": {
    "id": "ScitaPqhKtuW"
   },
   "source": [
    "##### Copyright 2021 The TensorFlow Hub Authors.\n",
    "\n",
    "Licensed under the Apache License, Version 2.0 (the \"License\");"
   ]
  },
  {
   "cell_type": "code",
   "execution_count": 1,
   "metadata": {
    "id": "jvztxQ6VsK2k",
    "tags": []
   },
   "outputs": [],
   "source": [
    "# Copyright 2021 The TensorFlow Hub Authors. All Rights Reserved.\n",
    "#\n",
    "# Licensed under the Apache License, Version 2.0 (the \"License\");\n",
    "# you may not use this file except in compliance with the License.\n",
    "# You may obtain a copy of the License at\n",
    "#\n",
    "#     http://www.apache.org/licenses/LICENSE-2.0\n",
    "#\n",
    "# Unless required by applicable law or agreed to in writing, software\n",
    "# distributed under the License is distributed on an \"AS IS\" BASIS,\n",
    "# WITHOUT WARRANTIES OR CONDITIONS OF ANY KIND, either express or implied.\n",
    "# See the License for the specific language governing permissions and\n",
    "# limitations under the License.\n",
    "# =============================================================================="
   ]
  },
  {
   "cell_type": "markdown",
   "metadata": {
    "id": "oYM61xrTsP5d"
   },
   "source": [
    "# Retraining an Image Classifier\n"
   ]
  },
  {
   "cell_type": "markdown",
   "metadata": {
    "id": "MfBg1C5NB3X0"
   },
   "source": [
    "<table class=\"tfo-notebook-buttons\" align=\"left\">\n",
    "  <td>\n",
    "    <a target=\"_blank\" href=\"https://www.tensorflow.org/hub/tutorials/tf2_image_retraining\"><img src=\"https://www.tensorflow.org/images/tf_logo_32px.png\" />View on TensorFlow.org</a>\n",
    "  </td>\n",
    "  <td>\n",
    "    <a target=\"_blank\" href=\"https://colab.research.google.com/github/tensorflow/hub/blob/master/examples/colab/tf2_image_retraining.ipynb\"><img src=\"https://www.tensorflow.org/images/colab_logo_32px.png\" />Run in Google Colab</a>\n",
    "  </td>\n",
    "  <td>\n",
    "    <a target=\"_blank\" href=\"https://github.com/tensorflow/hub/blob/master/examples/colab/tf2_image_retraining.ipynb\"><img src=\"https://www.tensorflow.org/images/GitHub-Mark-32px.png\" />View on GitHub</a>\n",
    "  </td>\n",
    "  <td>\n",
    "    <a href=\"https://storage.googleapis.com/tensorflow_docs/hub/examples/colab/tf2_image_retraining.ipynb\"><img src=\"https://www.tensorflow.org/images/download_logo_32px.png\" />Download notebook</a>\n",
    "  </td>\n",
    "  <td>\n",
    "    <a href=\"https://tfhub.dev/google/collections/image/1\"><img src=\"https://www.tensorflow.org/images/hub_logo_32px.png\" />See TF Hub models</a>\n",
    "  </td>\n",
    "</table>"
   ]
  },
  {
   "cell_type": "markdown",
   "metadata": {
    "id": "L1otmJgmbahf"
   },
   "source": [
    "## Introduction\n",
    "\n",
    "Image classification models have millions of parameters. Training them from\n",
    "scratch requires a lot of labeled training data and a lot of computing power. Transfer learning is a technique that shortcuts much of this by taking a piece of a model that has already been trained on a related task and reusing it in a new model.\n",
    "\n",
    "This Colab demonstrates how to build a Keras model for classifying five species of flowers by using a pre-trained TF2 SavedModel from TensorFlow Hub for image feature extraction, trained on the much larger and more general ImageNet dataset. Optionally, the feature extractor can be trained (\"fine-tuned\") alongside the newly added classifier.\n",
    "\n",
    "### Looking for a tool instead?\n",
    "\n",
    "This is a TensorFlow coding tutorial. If you want a tool that just builds the TensorFlow or TFLite model for, take a look at the [make_image_classifier](https://github.com/tensorflow/hub/tree/master/tensorflow_hub/tools/make_image_classifier) command-line tool that gets [installed](https://www.tensorflow.org/hub/installation) by the PIP package `tensorflow-hub[make_image_classifier]`, or at [this](https://colab.sandbox.google.com/github/tensorflow/examples/blob/master/tensorflow_examples/lite/model_maker/demo/image_classification.ipynb) TFLite colab.\n"
   ]
  },
  {
   "cell_type": "code",
   "execution_count": 1,
   "metadata": {
    "id": "bL54LWCHt5q5"
   },
   "outputs": [],
   "source": [
    "## Setup"
   ]
  },
  {
   "cell_type": "code",
   "execution_count": 1,
   "metadata": {
    "id": "dlauq-4FWGZM",
    "tags": []
   },
   "outputs": [
    {
     "name": "stdout",
     "output_type": "stream",
     "text": [
      "TF version: 2.9.1\n",
      "Hub version: 0.12.0\n",
      "GPU is NOT AVAILABLE\n"
     ]
    }
   ],
   "source": [
    "import itertools\n",
    "import os\n",
    "\n",
    "import matplotlib.pylab as plt\n",
    "import numpy as np\n",
    "\n",
    "import tensorflow as tf\n",
    "import tensorflow_hub as hub\n",
    "\n",
    "print(\"TF version:\", tf.__version__)\n",
    "print(\"Hub version:\", hub.__version__)\n",
    "print(\"GPU is\", \"available\" if tf.config.list_physical_devices('GPU') else \"NOT AVAILABLE\")"
   ]
  },
  {
   "cell_type": "markdown",
   "metadata": {
    "id": "mmaHHH7Pvmth"
   },
   "source": [
    "## Select the TF2 SavedModel module to use\n",
    "\n",
    "For starters, use [https://tfhub.dev/google/imagenet/mobilenet_v2_100_224/feature_vector/4](https://tfhub.dev/google/imagenet/mobilenet_v2_100_224/feature_vector/4). The same URL can be used in code to identify the SavedModel and in your browser to show its documentation. (Note that models in TF1 Hub format won't work here.)\n",
    "\n",
    "You can find more TF2 models that generate image feature vectors [here](https://tfhub.dev/s?module-type=image-feature-vector&tf-version=tf2).\n",
    "\n",
    "There are multiple possible models to try. All you need to do is select a different one on the cell below and follow up with the notebook."
   ]
  },
  {
   "cell_type": "code",
   "execution_count": 22,
   "metadata": {
    "id": "FlsEcKVeuCnf",
    "tags": []
   },
   "outputs": [
    {
     "name": "stdout",
     "output_type": "stream",
     "text": [
      "Selected model: efficientnetv2-b0 : https://tfhub.dev/google/imagenet/efficientnet_v2_imagenet1k_b0/feature_vector/2\n",
      "Input size (224, 224)\n"
     ]
    }
   ],
   "source": [
    "model_name = \"efficientnetv2-b0\" # @param ['efficientnetv2-s', 'efficientnetv2-m', 'efficientnetv2-l', 'efficientnetv2-s-21k', 'efficientnetv2-m-21k', 'efficientnetv2-l-21k', 'efficientnetv2-xl-21k', 'efficientnetv2-b0-21k', 'efficientnetv2-b1-21k', 'efficientnetv2-b2-21k', 'efficientnetv2-b3-21k', 'efficientnetv2-s-21k-ft1k', 'efficientnetv2-m-21k-ft1k', 'efficientnetv2-l-21k-ft1k', 'efficientnetv2-xl-21k-ft1k', 'efficientnetv2-b0-21k-ft1k', 'efficientnetv2-b1-21k-ft1k', 'efficientnetv2-b2-21k-ft1k', 'efficientnetv2-b3-21k-ft1k', 'efficientnetv2-b0', 'efficientnetv2-b1', 'efficientnetv2-b2', 'efficientnetv2-b3', 'efficientnet_b0', 'efficientnet_b1', 'efficientnet_b2', 'efficientnet_b3', 'efficientnet_b4', 'efficientnet_b5', 'efficientnet_b6', 'efficientnet_b7', 'bit_s-r50x1', 'inception_v3', 'inception_resnet_v2', 'resnet_v1_50', 'resnet_v1_101', 'resnet_v1_152', 'resnet_v2_50', 'resnet_v2_101', 'resnet_v2_152', 'nasnet_large', 'nasnet_mobile', 'pnasnet_large', 'mobilenet_v2_100_224', 'mobilenet_v2_130_224', 'mobilenet_v2_140_224', 'mobilenet_v3_small_100_224', 'mobilenet_v3_small_075_224', 'mobilenet_v3_large_100_224', 'mobilenet_v3_large_075_224']\n",
    "\n",
    "model_handle_map = {\n",
    "  \"efficientnetv2-s\": \"https://tfhub.dev/google/imagenet/efficientnet_v2_imagenet1k_s/feature_vector/2\",\n",
    "  \"efficientnetv2-m\": \"https://tfhub.dev/google/imagenet/efficientnet_v2_imagenet1k_m/feature_vector/2\",\n",
    "  \"efficientnetv2-l\": \"https://tfhub.dev/google/imagenet/efficientnet_v2_imagenet1k_l/feature_vector/2\",\n",
    "  \"efficientnetv2-s-21k\": \"https://tfhub.dev/google/imagenet/efficientnet_v2_imagenet21k_s/feature_vector/2\",\n",
    "  \"efficientnetv2-m-21k\": \"https://tfhub.dev/google/imagenet/efficientnet_v2_imagenet21k_m/feature_vector/2\",\n",
    "  \"efficientnetv2-l-21k\": \"https://tfhub.dev/google/imagenet/efficientnet_v2_imagenet21k_l/feature_vector/2\",\n",
    "  \"efficientnetv2-xl-21k\": \"https://tfhub.dev/google/imagenet/efficientnet_v2_imagenet21k_xl/feature_vector/2\",\n",
    "  \"efficientnetv2-b0-21k\": \"https://tfhub.dev/google/imagenet/efficientnet_v2_imagenet21k_b0/feature_vector/2\",\n",
    "  \"efficientnetv2-b1-21k\": \"https://tfhub.dev/google/imagenet/efficientnet_v2_imagenet21k_b1/feature_vector/2\",\n",
    "  \"efficientnetv2-b2-21k\": \"https://tfhub.dev/google/imagenet/efficientnet_v2_imagenet21k_b2/feature_vector/2\",\n",
    "  \"efficientnetv2-b3-21k\": \"https://tfhub.dev/google/imagenet/efficientnet_v2_imagenet21k_b3/feature_vector/2\",\n",
    "  \"efficientnetv2-s-21k-ft1k\": \"https://tfhub.dev/google/imagenet/efficientnet_v2_imagenet21k_ft1k_s/feature_vector/2\",\n",
    "  \"efficientnetv2-m-21k-ft1k\": \"https://tfhub.dev/google/imagenet/efficientnet_v2_imagenet21k_ft1k_m/feature_vector/2\",\n",
    "  \"efficientnetv2-l-21k-ft1k\": \"https://tfhub.dev/google/imagenet/efficientnet_v2_imagenet21k_ft1k_l/feature_vector/2\",\n",
    "  \"efficientnetv2-xl-21k-ft1k\": \"https://tfhub.dev/google/imagenet/efficientnet_v2_imagenet21k_ft1k_xl/feature_vector/2\",\n",
    "  \"efficientnetv2-b0-21k-ft1k\": \"https://tfhub.dev/google/imagenet/efficientnet_v2_imagenet21k_ft1k_b0/feature_vector/2\",\n",
    "  \"efficientnetv2-b1-21k-ft1k\": \"https://tfhub.dev/google/imagenet/efficientnet_v2_imagenet21k_ft1k_b1/feature_vector/2\",\n",
    "  \"efficientnetv2-b2-21k-ft1k\": \"https://tfhub.dev/google/imagenet/efficientnet_v2_imagenet21k_ft1k_b2/feature_vector/2\",\n",
    "  \"efficientnetv2-b3-21k-ft1k\": \"https://tfhub.dev/google/imagenet/efficientnet_v2_imagenet21k_ft1k_b3/feature_vector/2\",\n",
    "  \"efficientnetv2-b0\": \"https://tfhub.dev/google/imagenet/efficientnet_v2_imagenet1k_b0/feature_vector/2\",\n",
    "  \"efficientnetv2-b1\": \"https://tfhub.dev/google/imagenet/efficientnet_v2_imagenet1k_b1/feature_vector/2\",\n",
    "  \"efficientnetv2-b2\": \"https://tfhub.dev/google/imagenet/efficientnet_v2_imagenet1k_b2/feature_vector/2\",\n",
    "  \"efficientnetv2-b3\": \"https://tfhub.dev/google/imagenet/efficientnet_v2_imagenet1k_b3/feature_vector/2\",\n",
    "  \"efficientnet_b0\": \"https://tfhub.dev/tensorflow/efficientnet/b0/feature-vector/1\",\n",
    "  \"efficientnet_b1\": \"https://tfhub.dev/tensorflow/efficientnet/b1/feature-vector/1\",\n",
    "  \"efficientnet_b2\": \"https://tfhub.dev/tensorflow/efficientnet/b2/feature-vector/1\",\n",
    "  \"efficientnet_b3\": \"https://tfhub.dev/tensorflow/efficientnet/b3/feature-vector/1\",\n",
    "  \"efficientnet_b4\": \"https://tfhub.dev/tensorflow/efficientnet/b4/feature-vector/1\",\n",
    "  \"efficientnet_b5\": \"https://tfhub.dev/tensorflow/efficientnet/b5/feature-vector/1\",\n",
    "  \"efficientnet_b6\": \"https://tfhub.dev/tensorflow/efficientnet/b6/feature-vector/1\",\n",
    "  \"efficientnet_b7\": \"https://tfhub.dev/tensorflow/efficientnet/b7/feature-vector/1\",\n",
    "  \"bit_s-r50x1\": \"https://tfhub.dev/google/bit/s-r50x1/1\",\n",
    "  \"inception_v3\": \"https://tfhub.dev/google/imagenet/inception_v3/feature-vector/4\",\n",
    "  \"inception_resnet_v2\": \"https://tfhub.dev/google/imagenet/inception_resnet_v2/feature-vector/4\",\n",
    "  \"resnet_v1_50\": \"https://tfhub.dev/google/imagenet/resnet_v1_50/feature-vector/4\",\n",
    "  \"resnet_v1_101\": \"https://tfhub.dev/google/imagenet/resnet_v1_101/feature-vector/4\",\n",
    "  \"resnet_v1_152\": \"https://tfhub.dev/google/imagenet/resnet_v1_152/feature-vector/4\",\n",
    "  \"resnet_v2_50\": \"https://tfhub.dev/google/imagenet/resnet_v2_50/feature-vector/4\",\n",
    "  \"resnet_v2_101\": \"https://tfhub.dev/google/imagenet/resnet_v2_101/feature-vector/4\",\n",
    "  \"resnet_v2_152\": \"https://tfhub.dev/google/imagenet/resnet_v2_152/feature-vector/4\",\n",
    "  \"nasnet_large\": \"https://tfhub.dev/google/imagenet/nasnet_large/feature_vector/4\",\n",
    "  \"nasnet_mobile\": \"https://tfhub.dev/google/imagenet/nasnet_mobile/feature_vector/4\",\n",
    "  \"pnasnet_large\": \"https://tfhub.dev/google/imagenet/pnasnet_large/feature_vector/4\",\n",
    "  \"mobilenet_v2_100_224\": \"https://tfhub.dev/google/imagenet/mobilenet_v2_100_224/feature_vector/4\",\n",
    "  \"mobilenet_v2_130_224\": \"https://tfhub.dev/google/imagenet/mobilenet_v2_130_224/feature_vector/4\",\n",
    "  \"mobilenet_v2_140_224\": \"https://tfhub.dev/google/imagenet/mobilenet_v2_140_224/feature_vector/4\",\n",
    "  \"mobilenet_v3_small_100_224\": \"https://tfhub.dev/google/imagenet/mobilenet_v3_small_100_224/feature_vector/5\",\n",
    "  \"mobilenet_v3_small_075_224\": \"https://tfhub.dev/google/imagenet/mobilenet_v3_small_075_224/feature_vector/5\",\n",
    "  \"mobilenet_v3_large_100_224\": \"https://tfhub.dev/google/imagenet/mobilenet_v3_large_100_224/feature_vector/5\",\n",
    "  \"mobilenet_v3_large_075_224\": \"https://tfhub.dev/google/imagenet/mobilenet_v3_large_075_224/feature_vector/5\",\n",
    "}\n",
    "\n",
    "\n",
    "model_image_size_map = {\n",
    "  \"efficientnetv2-s\": 384,\n",
    "  \"efficientnetv2-m\": 480,\n",
    "  \"efficientnetv2-l\": 480,\n",
    "  \"efficientnetv2-b0\": 224,\n",
    "  \"efficientnetv2-b1\": 240,\n",
    "  \"efficientnetv2-b2\": 260,\n",
    "  \"efficientnetv2-b3\": 300,\n",
    "  \"efficientnetv2-s-21k\": 384,\n",
    "  \"efficientnetv2-m-21k\": 480,\n",
    "  \"efficientnetv2-l-21k\": 480,\n",
    "  \"efficientnetv2-xl-21k\": 512,\n",
    "  \"efficientnetv2-b0-21k\": 224,\n",
    "  \"efficientnetv2-b1-21k\": 240,\n",
    "  \"efficientnetv2-b2-21k\": 260,\n",
    "  \"efficientnetv2-b3-21k\": 300,\n",
    "  \"efficientnetv2-s-21k-ft1k\": 384,\n",
    "  \"efficientnetv2-m-21k-ft1k\": 480,\n",
    "  \"efficientnetv2-l-21k-ft1k\": 480,\n",
    "  \"efficientnetv2-xl-21k-ft1k\": 512,\n",
    "  \"efficientnetv2-b0-21k-ft1k\": 224,\n",
    "  \"efficientnetv2-b1-21k-ft1k\": 240,\n",
    "  \"efficientnetv2-b2-21k-ft1k\": 260,\n",
    "  \"efficientnetv2-b3-21k-ft1k\": 300, \n",
    "  \"efficientnet_b0\": 224,\n",
    "  \"efficientnet_b1\": 240,\n",
    "  \"efficientnet_b2\": 260,\n",
    "  \"efficientnet_b3\": 300,\n",
    "  \"efficientnet_b4\": 380,\n",
    "  \"efficientnet_b5\": 456,\n",
    "  \"efficientnet_b6\": 528,\n",
    "  \"efficientnet_b7\": 600,\n",
    "  \"inception_v3\": 299,\n",
    "  \"inception_resnet_v2\": 299,\n",
    "  \"nasnet_large\": 331,\n",
    "  \"pnasnet_large\": 331,\n",
    "}\n",
    "\n",
    "model_handle = model_handle_map.get(model_name)\n",
    "pixels = model_image_size_map.get(model_name, 224)\n",
    "\n",
    "print(f\"Selected model: {model_name} : {model_handle}\")\n",
    "\n",
    "IMAGE_SIZE = (pixels, pixels)\n",
    "print(f\"Input size {IMAGE_SIZE}\")\n",
    "\n",
    "BATCH_SIZE = 16#@param {type:\"integer\"}"
   ]
  },
  {
   "cell_type": "markdown",
   "metadata": {
    "id": "yTY8qzyYv3vl"
   },
   "source": [
    "## Set up the Flowers dataset\n",
    "\n",
    "Inputs are suitably resized for the selected module. Dataset augmentation (i.e., random distortions of an image each time it is read) improves training, esp. when fine-tuning."
   ]
  },
  {
   "cell_type": "code",
   "execution_count": 23,
   "metadata": {
    "id": "WBtFK1hO8KsO",
    "tags": []
   },
   "outputs": [],
   "source": [
    "data_dir = \"../../data/pubfig83/imgs\""
   ]
  },
  {
   "cell_type": "code",
   "execution_count": 24,
   "metadata": {
    "cellView": "form",
    "id": "umB5tswsfTEQ",
    "tags": []
   },
   "outputs": [
    {
     "name": "stdout",
     "output_type": "stream",
     "text": [
      "Found 13838 files belonging to 83 classes.\n",
      "Using 11071 files for training.\n",
      "Found 13838 files belonging to 83 classes.\n",
      "Using 2767 files for validation.\n"
     ]
    }
   ],
   "source": [
    "def build_dataset(subset):\n",
    "  return tf.keras.preprocessing.image_dataset_from_directory(\n",
    "      data_dir,\n",
    "      validation_split=.20,\n",
    "      subset=subset,\n",
    "      label_mode=\"categorical\",\n",
    "      # Seed needs to provided when using validation_split and shuffle = True.\n",
    "      # A fixed seed is used so that the validation set is stable across runs.\n",
    "      seed=123,\n",
    "      image_size=IMAGE_SIZE,\n",
    "      batch_size=1)\n",
    "\n",
    "train_ds = build_dataset(\"training\")\n",
    "class_names = tuple(train_ds.class_names)\n",
    "train_size = train_ds.cardinality().numpy()\n",
    "train_ds = train_ds.unbatch().batch(BATCH_SIZE)\n",
    "train_ds = train_ds.repeat()\n",
    "\n",
    "normalization_layer = tf.keras.layers.Rescaling(1. / 255)\n",
    "preprocessing_model = tf.keras.Sequential([normalization_layer])\n",
    "do_data_augmentation = True #@param {type:\"boolean\"}\n",
    "if do_data_augmentation:\n",
    "  preprocessing_model.add(\n",
    "      tf.keras.layers.RandomRotation(40))\n",
    "  preprocessing_model.add(\n",
    "      tf.keras.layers.RandomTranslation(0, 0.2))\n",
    "  preprocessing_model.add(\n",
    "      tf.keras.layers.RandomTranslation(0.2, 0))\n",
    "  # Like the old tf.keras.preprocessing.image.ImageDataGenerator(),\n",
    "  # image sizes are fixed when reading, and then a random zoom is applied.\n",
    "  # If all training inputs are larger than image_size, one could also use\n",
    "  # RandomCrop with a batch size of 1 and rebatch later.\n",
    "  preprocessing_model.add(\n",
    "      tf.keras.layers.RandomZoom(0.2, 0.2))\n",
    "  preprocessing_model.add(\n",
    "      tf.keras.layers.RandomFlip(mode=\"horizontal\"))\n",
    "train_ds = train_ds.map(lambda images, labels:\n",
    "                        (preprocessing_model(images), labels))\n",
    "\n",
    "val_ds = build_dataset(\"validation\")\n",
    "valid_size = val_ds.cardinality().numpy()\n",
    "val_ds = val_ds.unbatch().batch(BATCH_SIZE)\n",
    "val_ds = val_ds.map(lambda images, labels:\n",
    "                    (normalization_layer(images), labels))"
   ]
  },
  {
   "cell_type": "markdown",
   "metadata": {
    "id": "FS_gVStowW3G"
   },
   "source": [
    "## Defining the model\n",
    "\n",
    "All it takes is to put a linear classifier on top of the `feature_extractor_layer` with the Hub module.\n",
    "\n",
    "For speed, we start out with a non-trainable `feature_extractor_layer`, but you can also enable fine-tuning for greater accuracy."
   ]
  },
  {
   "cell_type": "code",
   "execution_count": 25,
   "metadata": {
    "id": "RaJW3XrPyFiF",
    "tags": []
   },
   "outputs": [],
   "source": [
    "do_fine_tuning = False #@param {type:\"boolean\"}"
   ]
  },
  {
   "cell_type": "code",
   "execution_count": 26,
   "metadata": {
    "id": "50FYNIb1dmJH",
    "tags": []
   },
   "outputs": [
    {
     "name": "stdout",
     "output_type": "stream",
     "text": [
      "Building model with https://tfhub.dev/google/imagenet/efficientnet_v2_imagenet1k_b0/feature_vector/2\n",
      "Model: \"sequential_6\"\n",
      "_________________________________________________________________\n",
      " Layer (type)                Output Shape              Param #   \n",
      "=================================================================\n",
      " keras_layer_1 (KerasLayer)  (None, 1280)              5919312   \n",
      "                                                                 \n",
      " dropout_1 (Dropout)         (None, 1280)              0         \n",
      "                                                                 \n",
      " dense_1 (Dense)             (None, 83)                106323    \n",
      "                                                                 \n",
      "=================================================================\n",
      "Total params: 6,025,635\n",
      "Trainable params: 106,323\n",
      "Non-trainable params: 5,919,312\n",
      "_________________________________________________________________\n"
     ]
    }
   ],
   "source": [
    "print(\"Building model with\", model_handle)\n",
    "model = tf.keras.Sequential([\n",
    "    # Explicitly define the input shape so the model can be properly\n",
    "    # loaded by the TFLiteConverter\n",
    "    tf.keras.layers.InputLayer(input_shape=IMAGE_SIZE + (3,)),\n",
    "    hub.KerasLayer(model_handle, trainable=do_fine_tuning),\n",
    "    tf.keras.layers.Dropout(rate=0.2),\n",
    "    tf.keras.layers.Dense(len(class_names),\n",
    "                          kernel_regularizer=tf.keras.regularizers.l2(0.0001))\n",
    "])\n",
    "model.build((None,)+IMAGE_SIZE+(3,))\n",
    "model.summary()"
   ]
  },
  {
   "cell_type": "markdown",
   "metadata": {
    "id": "u2e5WupIw2N2"
   },
   "source": [
    "## Training the model"
   ]
  },
  {
   "cell_type": "code",
   "execution_count": 27,
   "metadata": {
    "id": "9f3yBUvkd_VJ",
    "tags": []
   },
   "outputs": [],
   "source": [
    "model.compile(\n",
    "  optimizer=tf.keras.optimizers.SGD(learning_rate=0.005, momentum=0.9), \n",
    "  loss=tf.keras.losses.CategoricalCrossentropy(from_logits=True, label_smoothing=0.1),\n",
    "  metrics=['accuracy'])"
   ]
  },
  {
   "cell_type": "code",
   "execution_count": 29,
   "metadata": {
    "id": "w_YKX2Qnfg6x",
    "tags": []
   },
   "outputs": [
    {
     "name": "stdout",
     "output_type": "stream",
     "text": [
      "Epoch 1/100\n",
      "691/691 [==============================] - 135s 195ms/step - loss: 3.0000 - accuracy: 0.3511 - val_loss: 3.0691 - val_accuracy: 0.3336\n",
      "Epoch 2/100\n",
      "691/691 [==============================] - 142s 206ms/step - loss: 2.9320 - accuracy: 0.3731 - val_loss: 3.0307 - val_accuracy: 0.3452\n",
      "Epoch 3/100\n",
      "691/691 [==============================] - 147s 212ms/step - loss: 2.8838 - accuracy: 0.3963 - val_loss: 2.9942 - val_accuracy: 0.3601\n",
      "Epoch 4/100\n",
      "691/691 [==============================] - 144s 208ms/step - loss: 2.8356 - accuracy: 0.4053 - val_loss: 2.9716 - val_accuracy: 0.3695\n",
      "Epoch 5/100\n",
      "691/691 [==============================] - 144s 208ms/step - loss: 2.7863 - accuracy: 0.4266 - val_loss: 2.9405 - val_accuracy: 0.3848\n",
      "Epoch 6/100\n",
      "691/691 [==============================] - 146s 212ms/step - loss: 2.7574 - accuracy: 0.4367 - val_loss: 2.9176 - val_accuracy: 0.3924\n",
      "Epoch 7/100\n",
      "691/691 [==============================] - 146s 211ms/step - loss: 2.7199 - accuracy: 0.4461 - val_loss: 2.8950 - val_accuracy: 0.4059\n",
      "Epoch 8/100\n",
      "691/691 [==============================] - 145s 209ms/step - loss: 2.6944 - accuracy: 0.4560 - val_loss: 2.8755 - val_accuracy: 0.4175\n",
      "Epoch 9/100\n",
      "691/691 [==============================] - 146s 212ms/step - loss: 2.6654 - accuracy: 0.4702 - val_loss: 2.8581 - val_accuracy: 0.4182\n",
      "Epoch 10/100\n",
      "691/691 [==============================] - 146s 212ms/step - loss: 2.6430 - accuracy: 0.4738 - val_loss: 2.8465 - val_accuracy: 0.4222\n",
      "Epoch 11/100\n",
      "691/691 [==============================] - 150s 217ms/step - loss: 2.6201 - accuracy: 0.4812 - val_loss: 2.8327 - val_accuracy: 0.4259\n",
      "Epoch 12/100\n",
      "691/691 [==============================] - 148s 215ms/step - loss: 2.5956 - accuracy: 0.4962 - val_loss: 2.8250 - val_accuracy: 0.4251\n",
      "Epoch 13/100\n",
      "691/691 [==============================] - 144s 209ms/step - loss: 2.5767 - accuracy: 0.4999 - val_loss: 2.8148 - val_accuracy: 0.4350\n",
      "Epoch 14/100\n",
      "691/691 [==============================] - 142s 205ms/step - loss: 2.5642 - accuracy: 0.5051 - val_loss: 2.8014 - val_accuracy: 0.4411\n",
      "Epoch 15/100\n",
      "691/691 [==============================] - 143s 207ms/step - loss: 2.5462 - accuracy: 0.5074 - val_loss: 2.7953 - val_accuracy: 0.4455\n",
      "Epoch 16/100\n",
      "691/691 [==============================] - 141s 204ms/step - loss: 2.5276 - accuracy: 0.5172 - val_loss: 2.7844 - val_accuracy: 0.4477\n",
      "Epoch 17/100\n",
      "691/691 [==============================] - 141s 204ms/step - loss: 2.5064 - accuracy: 0.5263 - val_loss: 2.7780 - val_accuracy: 0.4531\n",
      "Epoch 18/100\n",
      "691/691 [==============================] - 143s 208ms/step - loss: 2.4971 - accuracy: 0.5280 - val_loss: 2.7689 - val_accuracy: 0.4517\n",
      "Epoch 19/100\n",
      "691/691 [==============================] - 149s 215ms/step - loss: 2.4800 - accuracy: 0.5398 - val_loss: 2.7647 - val_accuracy: 0.4571\n",
      "Epoch 20/100\n",
      "691/691 [==============================] - 143s 208ms/step - loss: 2.4675 - accuracy: 0.5362 - val_loss: 2.7640 - val_accuracy: 0.4553\n",
      "Epoch 21/100\n",
      "691/691 [==============================] - 145s 210ms/step - loss: 2.4601 - accuracy: 0.5384 - val_loss: 2.7554 - val_accuracy: 0.4593\n",
      "Epoch 22/100\n",
      "691/691 [==============================] - 144s 209ms/step - loss: 2.4525 - accuracy: 0.5430 - val_loss: 2.7529 - val_accuracy: 0.4600\n",
      "Epoch 23/100\n",
      "691/691 [==============================] - 145s 209ms/step - loss: 2.4394 - accuracy: 0.5539 - val_loss: 2.7481 - val_accuracy: 0.4666\n",
      "Epoch 24/100\n",
      "691/691 [==============================] - 142s 206ms/step - loss: 2.4381 - accuracy: 0.5507 - val_loss: 2.7443 - val_accuracy: 0.4655\n",
      "Epoch 25/100\n",
      "691/691 [==============================] - 141s 204ms/step - loss: 2.4269 - accuracy: 0.5596 - val_loss: 2.7405 - val_accuracy: 0.4713\n",
      "Epoch 26/100\n",
      "691/691 [==============================] - 139s 201ms/step - loss: 2.4110 - accuracy: 0.5622 - val_loss: 2.7356 - val_accuracy: 0.4749\n",
      "Epoch 27/100\n",
      "691/691 [==============================] - 139s 201ms/step - loss: 2.4037 - accuracy: 0.5725 - val_loss: 2.7319 - val_accuracy: 0.4753\n",
      "Epoch 28/100\n",
      "691/691 [==============================] - 139s 201ms/step - loss: 2.3932 - accuracy: 0.5696 - val_loss: 2.7348 - val_accuracy: 0.4742\n",
      "Epoch 29/100\n",
      "691/691 [==============================] - 139s 201ms/step - loss: 2.3952 - accuracy: 0.5753 - val_loss: 2.7329 - val_accuracy: 0.4749\n",
      "Epoch 30/100\n",
      "691/691 [==============================] - 142s 205ms/step - loss: 2.3838 - accuracy: 0.5800 - val_loss: 2.7328 - val_accuracy: 0.4717\n",
      "Epoch 31/100\n",
      "691/691 [==============================] - 144s 209ms/step - loss: 2.3816 - accuracy: 0.5769 - val_loss: 2.7298 - val_accuracy: 0.4742\n",
      "Epoch 32/100\n",
      "691/691 [==============================] - 139s 201ms/step - loss: 2.3755 - accuracy: 0.5855 - val_loss: 2.7303 - val_accuracy: 0.4742\n",
      "Epoch 33/100\n",
      "691/691 [==============================] - 138s 200ms/step - loss: 2.3633 - accuracy: 0.5903 - val_loss: 2.7260 - val_accuracy: 0.4724\n",
      "Epoch 34/100\n",
      "691/691 [==============================] - 141s 205ms/step - loss: 2.3555 - accuracy: 0.5928 - val_loss: 2.7311 - val_accuracy: 0.4738\n",
      "Epoch 35/100\n",
      "691/691 [==============================] - 143s 207ms/step - loss: 2.3553 - accuracy: 0.5929 - val_loss: 2.7217 - val_accuracy: 0.4818\n",
      "Epoch 36/100\n",
      "691/691 [==============================] - 143s 206ms/step - loss: 2.3513 - accuracy: 0.5934 - val_loss: 2.7208 - val_accuracy: 0.4800\n",
      "Epoch 37/100\n",
      "691/691 [==============================] - 146s 211ms/step - loss: 2.3389 - accuracy: 0.5975 - val_loss: 2.7227 - val_accuracy: 0.4782\n",
      "Epoch 38/100\n",
      "691/691 [==============================] - 148s 214ms/step - loss: 2.3316 - accuracy: 0.6004 - val_loss: 2.7170 - val_accuracy: 0.4844\n",
      "Epoch 39/100\n",
      "691/691 [==============================] - 150s 217ms/step - loss: 2.3344 - accuracy: 0.5995 - val_loss: 2.7156 - val_accuracy: 0.4858\n",
      "Epoch 40/100\n",
      "691/691 [==============================] - 142s 206ms/step - loss: 2.3214 - accuracy: 0.6106 - val_loss: 2.7177 - val_accuracy: 0.4818\n",
      "Epoch 41/100\n",
      "691/691 [==============================] - 143s 207ms/step - loss: 2.3256 - accuracy: 0.6069 - val_loss: 2.7124 - val_accuracy: 0.4873\n",
      "Epoch 42/100\n",
      "691/691 [==============================] - 142s 205ms/step - loss: 2.3143 - accuracy: 0.6141 - val_loss: 2.7187 - val_accuracy: 0.4880\n",
      "Epoch 43/100\n",
      "691/691 [==============================] - 144s 209ms/step - loss: 2.3113 - accuracy: 0.6133 - val_loss: 2.7168 - val_accuracy: 0.4847\n",
      "Epoch 44/100\n",
      "691/691 [==============================] - 153s 221ms/step - loss: 2.3040 - accuracy: 0.6196 - val_loss: 2.7122 - val_accuracy: 0.4858\n",
      "Epoch 45/100\n",
      "691/691 [==============================] - 155s 224ms/step - loss: 2.3078 - accuracy: 0.6123 - val_loss: 2.7091 - val_accuracy: 0.4862\n",
      "Epoch 46/100\n",
      "691/691 [==============================] - 153s 222ms/step - loss: 2.2975 - accuracy: 0.6201 - val_loss: 2.7148 - val_accuracy: 0.4891\n",
      "Epoch 47/100\n",
      "691/691 [==============================] - 151s 219ms/step - loss: 2.2910 - accuracy: 0.6217 - val_loss: 2.7135 - val_accuracy: 0.4869\n",
      "Epoch 48/100\n",
      "691/691 [==============================] - 154s 223ms/step - loss: 2.2989 - accuracy: 0.6182 - val_loss: 2.7100 - val_accuracy: 0.4931\n",
      "Epoch 49/100\n",
      "691/691 [==============================] - 154s 223ms/step - loss: 2.2888 - accuracy: 0.6242 - val_loss: 2.7073 - val_accuracy: 0.4949\n",
      "Epoch 50/100\n",
      "691/691 [==============================] - 154s 223ms/step - loss: 2.2799 - accuracy: 0.6316 - val_loss: 2.7081 - val_accuracy: 0.4971\n",
      "Epoch 51/100\n",
      "691/691 [==============================] - 154s 222ms/step - loss: 2.2797 - accuracy: 0.6332 - val_loss: 2.7097 - val_accuracy: 0.4975\n",
      "Epoch 52/100\n",
      "691/691 [==============================] - 152s 219ms/step - loss: 2.2801 - accuracy: 0.6357 - val_loss: 2.7088 - val_accuracy: 0.4971\n",
      "Epoch 53/100\n",
      "691/691 [==============================] - 156s 225ms/step - loss: 2.2823 - accuracy: 0.6252 - val_loss: 2.7093 - val_accuracy: 0.5004\n",
      "Epoch 54/100\n",
      "691/691 [==============================] - 154s 223ms/step - loss: 2.2727 - accuracy: 0.6355 - val_loss: 2.7097 - val_accuracy: 0.4982\n",
      "Epoch 55/100\n",
      "691/691 [==============================] - 154s 223ms/step - loss: 2.2742 - accuracy: 0.6365 - val_loss: 2.7086 - val_accuracy: 0.5000\n",
      "Epoch 56/100\n",
      "691/691 [==============================] - 157s 228ms/step - loss: 2.2644 - accuracy: 0.6313 - val_loss: 2.7063 - val_accuracy: 0.5040\n",
      "Epoch 57/100\n",
      "691/691 [==============================] - 156s 226ms/step - loss: 2.2656 - accuracy: 0.6446 - val_loss: 2.7043 - val_accuracy: 0.5018\n",
      "Epoch 58/100\n",
      "691/691 [==============================] - 154s 222ms/step - loss: 2.2651 - accuracy: 0.6363 - val_loss: 2.7066 - val_accuracy: 0.5025\n",
      "Epoch 59/100\n",
      "691/691 [==============================] - 144s 208ms/step - loss: 2.2705 - accuracy: 0.6334 - val_loss: 2.7032 - val_accuracy: 0.5069\n",
      "Epoch 60/100\n",
      "691/691 [==============================] - 140s 203ms/step - loss: 2.2654 - accuracy: 0.6395 - val_loss: 2.7037 - val_accuracy: 0.5044\n",
      "Epoch 61/100\n",
      "691/691 [==============================] - 140s 202ms/step - loss: 2.2593 - accuracy: 0.6454 - val_loss: 2.7056 - val_accuracy: 0.5051\n",
      "Epoch 62/100\n",
      "691/691 [==============================] - 139s 201ms/step - loss: 2.2561 - accuracy: 0.6460 - val_loss: 2.7040 - val_accuracy: 0.5094\n",
      "Epoch 63/100\n",
      "691/691 [==============================] - 140s 202ms/step - loss: 2.2504 - accuracy: 0.6503 - val_loss: 2.7038 - val_accuracy: 0.5040\n",
      "Epoch 64/100\n",
      "691/691 [==============================] - 141s 203ms/step - loss: 2.2593 - accuracy: 0.6450 - val_loss: 2.7055 - val_accuracy: 0.5073\n",
      "Epoch 65/100\n",
      "691/691 [==============================] - 140s 202ms/step - loss: 2.2513 - accuracy: 0.6497 - val_loss: 2.7055 - val_accuracy: 0.5084\n",
      "Epoch 66/100\n",
      "691/691 [==============================] - 142s 206ms/step - loss: 2.2419 - accuracy: 0.6526 - val_loss: 2.7032 - val_accuracy: 0.5105\n",
      "Epoch 67/100\n",
      "691/691 [==============================] - 143s 207ms/step - loss: 2.2577 - accuracy: 0.6491 - val_loss: 2.7067 - val_accuracy: 0.5073\n",
      "Epoch 68/100\n",
      "691/691 [==============================] - 141s 204ms/step - loss: 2.2405 - accuracy: 0.6532 - val_loss: 2.7049 - val_accuracy: 0.5113\n",
      "Epoch 69/100\n",
      "691/691 [==============================] - 137s 199ms/step - loss: 2.2472 - accuracy: 0.6530 - val_loss: 2.7067 - val_accuracy: 0.5098\n",
      "Epoch 70/100\n",
      "691/691 [==============================] - 138s 200ms/step - loss: 2.2475 - accuracy: 0.6542 - val_loss: 2.7047 - val_accuracy: 0.5084\n",
      "Epoch 71/100\n",
      "691/691 [==============================] - 138s 200ms/step - loss: 2.2400 - accuracy: 0.6594 - val_loss: 2.6999 - val_accuracy: 0.5098\n",
      "Epoch 72/100\n",
      "691/691 [==============================] - 144s 209ms/step - loss: 2.2406 - accuracy: 0.6573 - val_loss: 2.6979 - val_accuracy: 0.5138\n",
      "Epoch 73/100\n",
      "691/691 [==============================] - 146s 211ms/step - loss: 2.2389 - accuracy: 0.6581 - val_loss: 2.7034 - val_accuracy: 0.5036\n",
      "Epoch 74/100\n",
      "691/691 [==============================] - 138s 200ms/step - loss: 2.2367 - accuracy: 0.6583 - val_loss: 2.7079 - val_accuracy: 0.5091\n",
      "Epoch 75/100\n",
      "691/691 [==============================] - 138s 200ms/step - loss: 2.2333 - accuracy: 0.6639 - val_loss: 2.7046 - val_accuracy: 0.5105\n",
      "Epoch 76/100\n",
      "691/691 [==============================] - 138s 200ms/step - loss: 2.2421 - accuracy: 0.6563 - val_loss: 2.7043 - val_accuracy: 0.5113\n",
      "Epoch 77/100\n",
      "691/691 [==============================] - 136s 197ms/step - loss: 2.2315 - accuracy: 0.6668 - val_loss: 2.7050 - val_accuracy: 0.5076\n",
      "Epoch 78/100\n",
      "691/691 [==============================] - 136s 197ms/step - loss: 2.2345 - accuracy: 0.6603 - val_loss: 2.7056 - val_accuracy: 0.5087\n",
      "Epoch 79/100\n",
      "691/691 [==============================] - 135s 196ms/step - loss: 2.2364 - accuracy: 0.6651 - val_loss: 2.7056 - val_accuracy: 0.5109\n",
      "Epoch 80/100\n",
      "691/691 [==============================] - 135s 195ms/step - loss: 2.2308 - accuracy: 0.6611 - val_loss: 2.7071 - val_accuracy: 0.5091\n",
      "Epoch 81/100\n",
      "691/691 [==============================] - 135s 196ms/step - loss: 2.2227 - accuracy: 0.6701 - val_loss: 2.7055 - val_accuracy: 0.5134\n",
      "Epoch 82/100\n",
      "691/691 [==============================] - 136s 197ms/step - loss: 2.2218 - accuracy: 0.6659 - val_loss: 2.7014 - val_accuracy: 0.5171\n",
      "Epoch 83/100\n",
      "691/691 [==============================] - 135s 195ms/step - loss: 2.2242 - accuracy: 0.6691 - val_loss: 2.7057 - val_accuracy: 0.5102\n",
      "Epoch 84/100\n",
      "691/691 [==============================] - 135s 195ms/step - loss: 2.2236 - accuracy: 0.6678 - val_loss: 2.7035 - val_accuracy: 0.5153\n",
      "Epoch 85/100\n",
      "691/691 [==============================] - 135s 196ms/step - loss: 2.2250 - accuracy: 0.6660 - val_loss: 2.7040 - val_accuracy: 0.5127\n",
      "Epoch 86/100\n",
      "691/691 [==============================] - 135s 196ms/step - loss: 2.2234 - accuracy: 0.6716 - val_loss: 2.7043 - val_accuracy: 0.5174\n",
      "Epoch 87/100\n",
      "691/691 [==============================] - 135s 196ms/step - loss: 2.2230 - accuracy: 0.6692 - val_loss: 2.7013 - val_accuracy: 0.5196\n",
      "Epoch 88/100\n",
      "691/691 [==============================] - 136s 197ms/step - loss: 2.2253 - accuracy: 0.6680 - val_loss: 2.7037 - val_accuracy: 0.5131\n",
      "Epoch 89/100\n",
      "691/691 [==============================] - 135s 195ms/step - loss: 2.2197 - accuracy: 0.6694 - val_loss: 2.7077 - val_accuracy: 0.5164\n",
      "Epoch 90/100\n",
      "691/691 [==============================] - 136s 196ms/step - loss: 2.2118 - accuracy: 0.6742 - val_loss: 2.7050 - val_accuracy: 0.5214\n",
      "Epoch 91/100\n",
      "691/691 [==============================] - 135s 196ms/step - loss: 2.2158 - accuracy: 0.6744 - val_loss: 2.7053 - val_accuracy: 0.5160\n",
      "Epoch 92/100\n",
      "691/691 [==============================] - 134s 194ms/step - loss: 2.2164 - accuracy: 0.6741 - val_loss: 2.7115 - val_accuracy: 0.5185\n",
      "Epoch 93/100\n",
      "691/691 [==============================] - 135s 195ms/step - loss: 2.2185 - accuracy: 0.6751 - val_loss: 2.7037 - val_accuracy: 0.5196\n",
      "Epoch 94/100\n",
      "691/691 [==============================] - 134s 194ms/step - loss: 2.2208 - accuracy: 0.6754 - val_loss: 2.7080 - val_accuracy: 0.5145\n",
      "Epoch 95/100\n",
      "691/691 [==============================] - 134s 194ms/step - loss: 2.2103 - accuracy: 0.6779 - val_loss: 2.7118 - val_accuracy: 0.5102\n",
      "Epoch 96/100\n",
      "691/691 [==============================] - 137s 198ms/step - loss: 2.2134 - accuracy: 0.6719 - val_loss: 2.7161 - val_accuracy: 0.5080\n",
      "Epoch 97/100\n",
      "691/691 [==============================] - 146s 212ms/step - loss: 2.2106 - accuracy: 0.6815 - val_loss: 2.7156 - val_accuracy: 0.5102\n",
      "Epoch 98/100\n",
      "691/691 [==============================] - 157s 227ms/step - loss: 2.2128 - accuracy: 0.6777 - val_loss: 2.7114 - val_accuracy: 0.5149\n",
      "Epoch 99/100\n",
      "691/691 [==============================] - 158s 228ms/step - loss: 2.2204 - accuracy: 0.6725 - val_loss: 2.7175 - val_accuracy: 0.5098\n",
      "Epoch 100/100\n",
      "691/691 [==============================] - 141s 204ms/step - loss: 2.2129 - accuracy: 0.6801 - val_loss: 2.7160 - val_accuracy: 0.5124\n"
     ]
    }
   ],
   "source": [
    "steps_per_epoch = train_size // BATCH_SIZE\n",
    "validation_steps = valid_size // BATCH_SIZE\n",
    "hist = model.fit(\n",
    "    train_ds,\n",
    "    epochs=100, steps_per_epoch=steps_per_epoch,\n",
    "    validation_data=val_ds,\n",
    "    validation_steps=validation_steps).history"
   ]
  },
  {
   "cell_type": "code",
   "execution_count": 38,
   "metadata": {
    "id": "CYOw0fTO1W4x",
    "tags": []
   },
   "outputs": [
    {
     "data": {
      "text/plain": [
       "[<matplotlib.lines.Line2D at 0x7fc253840610>]"
      ]
     },
     "execution_count": 38,
     "metadata": {},
     "output_type": "execute_result"
    },
    {
     "data": {
      "image/png": "[encoded data removed]",
      "text/plain": [
       "<Figure size 432x288 with 1 Axes>"
      ]
     },
     "metadata": {
      "needs_background": "light"
     },
     "output_type": "display_data"
    },
    {
     "data": {
      "image/png": "[encoded data removed]",
      "text/plain": [
       "<Figure size 432x288 with 1 Axes>"
      ]
     },
     "metadata": {
      "needs_background": "light"
     },
     "output_type": "display_data"
    }
   ],
   "source": [
    "plt.figure()\n",
    "plt.ylabel(\"Loss (training and validation)\")\n",
    "plt.xlabel(\"Training Steps\")\n",
    "plt.ylim([2,3.1])\n",
    "plt.plot(hist[\"loss\"])\n",
    "plt.plot(hist[\"val_loss\"])\n",
    "\n",
    "plt.figure()\n",
    "plt.ylabel(\"Accuracy (training and validation)\")\n",
    "plt.xlabel(\"Training Steps\")\n",
    "plt.ylim([0,1])\n",
    "plt.plot(hist[\"accuracy\"])\n",
    "plt.plot(hist[\"val_accuracy\"])"
   ]
  },
  {
   "cell_type": "markdown",
   "metadata": {
    "id": "jZ8DKKgeKv4-"
   },
   "source": [
    "Try out the model on an image from the validation data:"
   ]
  },
  {
   "cell_type": "code",
   "execution_count": 31,
   "metadata": {
    "id": "oi1iCNB9K1Ai",
    "tags": []
   },
   "outputs": [
    {
     "data": {
      "image/png": "[encoded data removed]",
      "text/plain": [
       "<Figure size 432x288 with 1 Axes>"
      ]
     },
     "metadata": {
      "needs_background": "light"
     },
     "output_type": "display_data"
    },
    {
     "name": "stdout",
     "output_type": "stream",
     "text": [
      "1/1 [==============================] - 1s 552ms/step\n",
      "True label: Brad Pitt\n",
      "Predicted label: Brad Pitt\n"
     ]
    }
   ],
   "source": [
    "x, y = next(iter(val_ds))\n",
    "image = x[0, :, :, :]\n",
    "true_index = np.argmax(y[0])\n",
    "plt.imshow(image)\n",
    "plt.axis('off')\n",
    "plt.show()\n",
    "\n",
    "# Expand the validation image to (1, 224, 224, 3) before predicting the label\n",
    "prediction_scores = model.predict(np.expand_dims(image, axis=0))\n",
    "predicted_index = np.argmax(prediction_scores)\n",
    "print(\"True label: \" + class_names[true_index])\n",
    "print(\"Predicted label: \" + class_names[predicted_index])"
   ]
  },
  {
   "cell_type": "markdown",
   "metadata": {
    "id": "YCsAsQM1IRvA"
   },
   "source": [
    "Finally, the trained model can be saved for deployment to TF Serving or TFLite (on mobile) as follows."
   ]
  },
  {
   "cell_type": "code",
   "execution_count": null,
   "metadata": {
    "id": "LGvTi69oIc2d",
    "tags": []
   },
   "outputs": [],
   "source": [
    "saved_model_path = f\"/tmp/saved_flowers_model_{model_name}\"\n",
    "tf.saved_model.save(model, saved_model_path)"
   ]
  },
  {
   "cell_type": "markdown",
   "metadata": {
    "id": "QzW4oNRjILaq"
   },
   "source": [
    "## Optional: Deployment to TensorFlow Lite\n",
    "\n",
    "[TensorFlow Lite](https://www.tensorflow.org/lite) lets you deploy TensorFlow models to mobile and IoT devices. The code below shows how to convert the trained model to TFLite and apply post-training tools from the [TensorFlow Model Optimization Toolkit](https://www.tensorflow.org/model_optimization). Finally, it runs it in the TFLite Interpreter to examine the resulting quality\n",
    "\n",
    "  * Converting without optimization provides the same results as before (up to roundoff error).\n",
    "  * Converting with optimization without any data quantizes the model weights to 8 bits, but inference still uses floating-point computation for the neural network activations. This reduces model size almost by a factor of 4 and improves CPU latency on mobile devices.\n",
    "  * On top, computation of the neural network activations can be quantized to 8-bit integers as well if a small reference dataset is provided to calibrate the quantization range. On a mobile device, this accelerates inference further and makes it possible to run on accelerators like Edge TPU."
   ]
  },
  {
   "cell_type": "code",
   "execution_count": 13,
   "metadata": {
    "execution": {
     "iopub.execute_input": "2022-04-27T12:35:00.933403Z",
     "iopub.status.busy": "2022-04-27T12:35:00.933164Z",
     "iopub.status.idle": "2022-04-27T12:36:04.330966Z",
     "shell.execute_reply": "2022-04-27T12:36:04.330297Z"
    },
    "id": "Va1Vo92fSyV6"
   },
   "outputs": [
    {
     "name": "stderr",
     "output_type": "stream",
     "text": [
      "2022-04-27 12:35:36.678761: W tensorflow/compiler/mlir/lite/python/tf_tfl_flatbuffer_helpers.cc:362] Ignored output_format.\n",
      "2022-04-27 12:35:36.678809: W tensorflow/compiler/mlir/lite/python/tf_tfl_flatbuffer_helpers.cc:365] Ignored drop_control_dependency.\n"
     ]
    },
    {
     "name": "stdout",
     "output_type": "stream",
     "text": [
      "Wrote TFLite model of 826249776 bytes.\n"
     ]
    }
   ],
   "source": [
    "#@title Optimization settings\n",
    "optimize_lite_model = False  #@param {type:\"boolean\"}\n",
    "#@markdown Setting a value greater than zero enables quantization of neural network activations. A few dozen is already a useful amount.\n",
    "num_calibration_examples = 60  #@param {type:\"slider\", min:0, max:1000, step:1}\n",
    "representative_dataset = None\n",
    "if optimize_lite_model and num_calibration_examples:\n",
    "  # Use a bounded number of training examples without labels for calibration.\n",
    "  # TFLiteConverter expects a list of input tensors, each with batch size 1.\n",
    "  representative_dataset = lambda: itertools.islice(\n",
    "      ([image[None, ...]] for batch, _ in train_ds for image in batch),\n",
    "      num_calibration_examples)\n",
    "\n",
    "converter = tf.lite.TFLiteConverter.from_saved_model(saved_model_path)\n",
    "if optimize_lite_model:\n",
    "  converter.optimizations = [tf.lite.Optimize.DEFAULT]\n",
    "  if representative_dataset:  # This is optional, see above.\n",
    "    converter.representative_dataset = representative_dataset\n",
    "lite_model_content = converter.convert()\n",
    "\n",
    "with open(f\"/tmp/lite_flowers_model_{model_name}.tflite\", \"wb\") as f:\n",
    "  f.write(lite_model_content)\n",
    "print(\"Wrote %sTFLite model of %d bytes.\" %\n",
    "      (\"optimized \" if optimize_lite_model else \"\", len(lite_model_content)))"
   ]
  },
  {
   "cell_type": "code",
   "execution_count": 14,
   "metadata": {
    "execution": {
     "iopub.execute_input": "2022-04-27T12:36:04.334235Z",
     "iopub.status.busy": "2022-04-27T12:36:04.334021Z",
     "iopub.status.idle": "2022-04-27T12:36:04.340298Z",
     "shell.execute_reply": "2022-04-27T12:36:04.339742Z"
    },
    "id": "_wqEmD0xIqeG"
   },
   "outputs": [],
   "source": [
    "interpreter = tf.lite.Interpreter(model_content=lite_model_content)\n",
    "# This little helper wraps the TFLite Interpreter as a numpy-to-numpy function.\n",
    "def lite_model(images):\n",
    "  interpreter.allocate_tensors()\n",
    "  interpreter.set_tensor(interpreter.get_input_details()[0]['index'], images)\n",
    "  interpreter.invoke()\n",
    "  return interpreter.get_tensor(interpreter.get_output_details()[0]['index'])"
   ]
  },
  {
   "cell_type": "code",
   "execution_count": 15,
   "metadata": {
    "execution": {
     "iopub.execute_input": "2022-04-27T12:36:04.343322Z",
     "iopub.status.busy": "2022-04-27T12:36:04.342886Z",
     "iopub.status.idle": "2022-04-27T12:39:57.675554Z",
     "shell.execute_reply": "2022-04-27T12:39:57.674826Z"
    },
    "id": "JMMK-fZrKrk8"
   },
   "outputs": [
    {
     "name": "stderr",
     "output_type": "stream",
     "text": [
      "INFO: Created TensorFlow Lite XNNPACK delegate for CPU.\n"
     ]
    },
    {
     "name": "stdout",
     "output_type": "stream",
     "text": [
      "TFLite model agrees with original model on 50 of 50 examples (100%).\n",
      "TFLite model is accurate on 50 of 50 examples (100%).\n"
     ]
    }
   ],
   "source": [
    "#@markdown For rapid experimentation, start with a moderate number of examples.\n",
    "num_eval_examples = 50  #@param {type:\"slider\", min:0, max:700}\n",
    "eval_dataset = ((image, label)  # TFLite expects batch size 1.\n",
    "                for batch in train_ds\n",
    "                for (image, label) in zip(*batch))\n",
    "count = 0\n",
    "count_lite_tf_agree = 0\n",
    "count_lite_correct = 0\n",
    "for image, label in eval_dataset:\n",
    "  probs_lite = lite_model(image[None, ...])[0]\n",
    "  probs_tf = model(image[None, ...]).numpy()[0]\n",
    "  y_lite = np.argmax(probs_lite)\n",
    "  y_tf = np.argmax(probs_tf)\n",
    "  y_true = np.argmax(label)\n",
    "  count +=1\n",
    "  if y_lite == y_tf: count_lite_tf_agree += 1\n",
    "  if y_lite == y_true: count_lite_correct += 1\n",
    "  if count >= num_eval_examples: break\n",
    "print(\"TFLite model agrees with original model on %d of %d examples (%g%%).\" %\n",
    "      (count_lite_tf_agree, count, 100.0 * count_lite_tf_agree / count))\n",
    "print(\"TFLite model is accurate on %d of %d examples (%g%%).\" %\n",
    "      (count_lite_correct, count, 100.0 * count_lite_correct / count))"
   ]
  }
 ],
 "metadata": {
  "accelerator": "GPU",
  "colab": {
   "collapsed_sections": [
    "ScitaPqhKtuW"
   ],
   "name": "TF Hub for TF2: Retraining an image classifier",
   "private_outputs": true,
   "provenance": [],
   "toc_visible": true
  },
  "kernelspec": {
   "display_name": "Python 3",
   "language": "python",
   "name": "python3"
  },
  "language_info": {
   "codemirror_mode": {
    "name": "ipython",
    "version": 3
   },
   "file_extension": ".py",
   "mimetype": "text/x-python",
   "name": "python",
   "nbconvert_exporter": "python",
   "pygments_lexer": "ipython3",
   "version": "3.8.5"
  }
 },
 "nbformat": 4,
 "nbformat_minor": 4
}
